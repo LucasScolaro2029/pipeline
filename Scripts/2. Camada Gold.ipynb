{
 "cells": [
  {
   "cell_type": "code",
   "execution_count": 0,
   "metadata": {
    "application/vnd.databricks.v1+cell": {
     "cellMetadata": {
      "byteLimit": 2048000,
      "rowLimit": 10000
     },
     "inputWidgets": {},
     "nuid": "13948f3f-06bd-4257-8b4a-4704c93b2c21",
     "showTitle": false,
     "tableResultSettingsMap": {},
     "title": ""
    }
   },
   "outputs": [],
   "source": [
    "df=spark.read.parquet(\"dbfs:/mnt/Anac/Silver/anac_silver.parquet/\")\n",
    "# display(df)"
   ]
  },
  {
   "cell_type": "code",
   "execution_count": 0,
   "metadata": {
    "application/vnd.databricks.v1+cell": {
     "cellMetadata": {
      "byteLimit": 2048000,
      "rowLimit": 10000
     },
     "inputWidgets": {},
     "nuid": "3a446c12-f584-4c28-9e3e-25da60b70e7b",
     "showTitle": false,
     "tableResultSettingsMap": {},
     "title": ""
    }
   },
   "outputs": [],
   "source": [
    "#1°:Selecionar somentes colunas que o cliente/setor pediu\n",
    "colunas = ['Aerodromo_de_Destino', 'Aerodromo_de_Origem','Classificacao_da_Ocorrência', 'Danos_a_Aeronave', 'Data_da_Ocorrencia','Municipio','UF','Regiao','Tipo_de_Aerodromo', 'Tipo_de_Ocorrencia','Lesoes_Desconhecidas_Passageiros', 'Lesoes_Desconhecidas_Terceiros', 'Lesoes_Desconhecidas_Tripulantes', 'Lesoes_Fatais_Passageiros', 'Lesoes_Fatais_Terceiros', 'Lesoes_Fatais_Tripulantes', 'Lesoes_Graves_Passageiros', 'Lesoes_Graves_Terceiros', 'Lesoes_Graves_Tripulantes', 'Lesoes_Leves_Passageiros', 'Lesoes_Leves_Terceiros', 'Lesoes_Leves_Tripulantes']\n",
    "df = df.select(colunas)\n",
    "# df.display(df)"
   ]
  },
  {
   "cell_type": "code",
   "execution_count": 0,
   "metadata": {
    "application/vnd.databricks.v1+cell": {
     "cellMetadata": {
      "byteLimit": 2048000,
      "rowLimit": 10000
     },
     "inputWidgets": {},
     "nuid": "cf61f44c-8960-4348-ad47-102f8a5ff283",
     "showTitle": false,
     "tableResultSettingsMap": {},
     "title": ""
    }
   },
   "outputs": [],
   "source": [
    "#2°:Criar uma nova coluna que faz a soma de todas as lesoes \n",
    "colunas_a_somar = [\n",
    "    \"Lesoes_Desconhecidas_Passageiros\",\n",
    "    \"Lesoes_Desconhecidas_Terceiros\",\n",
    "    \"Lesoes_Desconhecidas_Tripulantes\",\n",
    "    \"Lesoes_Fatais_Passageiros\",\n",
    "    \"Lesoes_Fatais_Terceiros\",\n",
    "    \"Lesoes_Fatais_Tripulantes\",\n",
    "    \"Lesoes_Graves_Passageiros\",\n",
    "    \"Lesoes_Graves_Terceiros\",\n",
    "    \"Lesoes_Graves_Tripulantes\",\n",
    "    \"Lesoes_Leves_Passageiros\",\n",
    "    \"Lesoes_Leves_Terceiros\",\n",
    "    \"Lesoes_Leves_Tripulantes\"\n",
    "]\n",
    "df = df.withColumn(\"Total_Lesoes\", sum(df[somartudo] for somartudo in colunas_a_somar))\n",
    "# display(df)"
   ]
  },
  {
   "cell_type": "code",
   "execution_count": 0,
   "metadata": {
    "application/vnd.databricks.v1+cell": {
     "cellMetadata": {
      "byteLimit": 2048000,
      "rowLimit": 10000
     },
     "inputWidgets": {},
     "nuid": "572613fa-8395-4788-9bc0-6fbe79596c39",
     "showTitle": false,
     "tableResultSettingsMap": {},
     "title": ""
    }
   },
   "outputs": [],
   "source": [
    "# 3°:renomear colunas para ficar mais intuitivas para o usuario final \n",
    "df = df.withColumnRenamed('Aerodromo_de_Destino', 'Destino')\\\n",
    "    .withColumnRenamed('Aerodromo_de_Origem', 'Origem')\\\n",
    "    .withColumnRenamed('Classificacao_da_Ocorrência', 'Classificacao')\\\n",
    "    .withColumnRenamed('Danos_a_Aeronave', 'Danos')\\\n",
    "    .withColumnRenamed('Data_da_Ocorrencia', 'Data')\\\n",
    "    .withColumnRenamed('UF', 'Estado')\\\n",
    "    .withColumnRenamed('Aerodromo_de_Destino', 'Destino')\\\n",
    "    .withColumnRenamed('Aerodromo_de_Destino', 'Destino')\n",
    "\n",
    "# display(df)"
   ]
  },
  {
   "cell_type": "code",
   "execution_count": 0,
   "metadata": {
    "application/vnd.databricks.v1+cell": {
     "cellMetadata": {
      "byteLimit": 2048000,
      "rowLimit": 10000
     },
     "inputWidgets": {},
     "nuid": "b58827f4-addd-40e5-a2db-86dc2c842b75",
     "showTitle": false,
     "tableResultSettingsMap": {},
     "title": ""
    }
   },
   "outputs": [],
   "source": [
    "#4° Excluir dados que estados tenham a classificação [Indeterminado, Sem Registro, Exterior]\n",
    "classificacoes_a_excluir = [\"Indeterminado\", \"Sem Registro\", \"Exterior\"]\n",
    "# display(df.filter(~df['Estado'].isin(classificacoes_a_excluir)))\n",
    "df = df.filter(~df['Estado'].isin(classificacoes_a_excluir))\n",
    "# display(df)\n"
   ]
  },
  {
   "cell_type": "code",
   "execution_count": 0,
   "metadata": {
    "application/vnd.databricks.v1+cell": {
     "cellMetadata": {
      "byteLimit": 2048000,
      "rowLimit": 10000
     },
     "inputWidgets": {},
     "nuid": "c9f66ebd-ebd3-465d-a51b-2e0dc6d99383",
     "showTitle": false,
     "tableResultSettingsMap": {},
     "title": ""
    }
   },
   "outputs": [],
   "source": [
    "from pyspark.sql.functions import current_timestamp, date_format,from_utc_timestamp\n",
    "df = df.withColumn(\"Atualizacao\",\\\n",
    "     date_format( from_utc_timestamp(current_timestamp(), \"America/Sao_Paulo\"), \"yyyy-MM-dd HH:mm:ss\"))\n",
    "# display(df)"
   ]
  },
  {
   "cell_type": "code",
   "execution_count": 0,
   "metadata": {
    "application/vnd.databricks.v1+cell": {
     "cellMetadata": {
      "byteLimit": 2048000,
      "rowLimit": 10000
     },
     "inputWidgets": {},
     "nuid": "49d8da18-add4-4012-b73f-c0452f4ab79c",
     "showTitle": false,
     "tableResultSettingsMap": {},
     "title": ""
    }
   },
   "outputs": [],
   "source": [
    "#6°:Salvar na camada Gold particionada por UF > 'Estado'\n",
    "df.write\\\n",
    "    .mode(\"overwrite\")\\\n",
    "    .format(\"parquet\")\\\n",
    "    .partitionBy(\"Estado\")\\\n",
    "    .save(\"dbfs:/mnt/Anac/Gold/anac_gold_particionado\")"
   ]
  }
 ],
 "metadata": {
  "application/vnd.databricks.v1+notebook": {
   "computePreferences": null,
   "dashboards": [],
   "environmentMetadata": {
    "base_environment": "",
    "environment_version": "2"
   },
   "inputWidgetPreferences": null,
   "language": "python",
   "notebookMetadata": {
    "mostRecentlyExecutedCommandWithImplicitDF": {
     "commandId": 6902161254687718,
     "dataframes": [
      "_sqldf"
     ]
    },
    "pythonIndentUnit": 4
   },
   "notebookName": "2. Camada Gold",
   "widgets": {}
  },
  "language_info": {
   "name": "python"
  }
 },
 "nbformat": 4,
 "nbformat_minor": 0
}
